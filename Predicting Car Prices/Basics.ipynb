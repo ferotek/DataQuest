{
 "cells": [
  {
   "cell_type": "code",
   "execution_count": 65,
   "metadata": {
    "collapsed": false
   },
   "outputs": [],
   "source": [
    "import numpy as np\n",
    "import pandas as pd\n",
    "headrow = ['symboling', 'normalized_losses',\n",
    "          'make', 'fuel_type', 'aspiration' ,\n",
    "          'num_doors', 'body_style', \n",
    "          'drive_wheels', 'engine_location', \n",
    "          'wheel_base' , 'length', 'width', 'height',\n",
    "          'curb_weight', 'engine_type', 'num_cylinders' ,\n",
    "          'engine_size', 'fuel_system', 'bore', 'stroke',\n",
    "          'compression_ratio', 'horsepower', 'peak_rpm', 'city_mpg',\n",
    "          'highway_mpg', 'price']\n",
    "cars = pd.read_csv('imports-85.data', names = headrow)"
   ]
  },
  {
   "cell_type": "code",
   "execution_count": 66,
   "metadata": {
    "collapsed": false
   },
   "outputs": [
    {
     "data": {
      "text/html": [
       "<div>\n",
       "<style scoped>\n",
       "    .dataframe tbody tr th:only-of-type {\n",
       "        vertical-align: middle;\n",
       "    }\n",
       "\n",
       "    .dataframe tbody tr th {\n",
       "        vertical-align: top;\n",
       "    }\n",
       "\n",
       "    .dataframe thead th {\n",
       "        text-align: right;\n",
       "    }\n",
       "</style>\n",
       "<table border=\"1\" class=\"dataframe\">\n",
       "  <thead>\n",
       "    <tr style=\"text-align: right;\">\n",
       "      <th></th>\n",
       "      <th>symboling</th>\n",
       "      <th>normalized_losses</th>\n",
       "      <th>make</th>\n",
       "      <th>fuel_type</th>\n",
       "      <th>aspiration</th>\n",
       "      <th>num_doors</th>\n",
       "      <th>body_style</th>\n",
       "      <th>drive_wheels</th>\n",
       "      <th>engine_location</th>\n",
       "      <th>wheel_base</th>\n",
       "      <th>...</th>\n",
       "      <th>engine_size</th>\n",
       "      <th>fuel_system</th>\n",
       "      <th>bore</th>\n",
       "      <th>stroke</th>\n",
       "      <th>compression_ratio</th>\n",
       "      <th>horsepower</th>\n",
       "      <th>peak_rpm</th>\n",
       "      <th>city_mpg</th>\n",
       "      <th>highway_mpg</th>\n",
       "      <th>price</th>\n",
       "    </tr>\n",
       "  </thead>\n",
       "  <tbody>\n",
       "    <tr>\n",
       "      <th>0</th>\n",
       "      <td>3</td>\n",
       "      <td>?</td>\n",
       "      <td>alfa-romero</td>\n",
       "      <td>gas</td>\n",
       "      <td>std</td>\n",
       "      <td>two</td>\n",
       "      <td>convertible</td>\n",
       "      <td>rwd</td>\n",
       "      <td>front</td>\n",
       "      <td>88.6</td>\n",
       "      <td>...</td>\n",
       "      <td>130</td>\n",
       "      <td>mpfi</td>\n",
       "      <td>3.47</td>\n",
       "      <td>2.68</td>\n",
       "      <td>9.0</td>\n",
       "      <td>111</td>\n",
       "      <td>5000</td>\n",
       "      <td>21</td>\n",
       "      <td>27</td>\n",
       "      <td>13495</td>\n",
       "    </tr>\n",
       "    <tr>\n",
       "      <th>1</th>\n",
       "      <td>3</td>\n",
       "      <td>?</td>\n",
       "      <td>alfa-romero</td>\n",
       "      <td>gas</td>\n",
       "      <td>std</td>\n",
       "      <td>two</td>\n",
       "      <td>convertible</td>\n",
       "      <td>rwd</td>\n",
       "      <td>front</td>\n",
       "      <td>88.6</td>\n",
       "      <td>...</td>\n",
       "      <td>130</td>\n",
       "      <td>mpfi</td>\n",
       "      <td>3.47</td>\n",
       "      <td>2.68</td>\n",
       "      <td>9.0</td>\n",
       "      <td>111</td>\n",
       "      <td>5000</td>\n",
       "      <td>21</td>\n",
       "      <td>27</td>\n",
       "      <td>16500</td>\n",
       "    </tr>\n",
       "    <tr>\n",
       "      <th>2</th>\n",
       "      <td>1</td>\n",
       "      <td>?</td>\n",
       "      <td>alfa-romero</td>\n",
       "      <td>gas</td>\n",
       "      <td>std</td>\n",
       "      <td>two</td>\n",
       "      <td>hatchback</td>\n",
       "      <td>rwd</td>\n",
       "      <td>front</td>\n",
       "      <td>94.5</td>\n",
       "      <td>...</td>\n",
       "      <td>152</td>\n",
       "      <td>mpfi</td>\n",
       "      <td>2.68</td>\n",
       "      <td>3.47</td>\n",
       "      <td>9.0</td>\n",
       "      <td>154</td>\n",
       "      <td>5000</td>\n",
       "      <td>19</td>\n",
       "      <td>26</td>\n",
       "      <td>16500</td>\n",
       "    </tr>\n",
       "    <tr>\n",
       "      <th>3</th>\n",
       "      <td>2</td>\n",
       "      <td>164</td>\n",
       "      <td>audi</td>\n",
       "      <td>gas</td>\n",
       "      <td>std</td>\n",
       "      <td>four</td>\n",
       "      <td>sedan</td>\n",
       "      <td>fwd</td>\n",
       "      <td>front</td>\n",
       "      <td>99.8</td>\n",
       "      <td>...</td>\n",
       "      <td>109</td>\n",
       "      <td>mpfi</td>\n",
       "      <td>3.19</td>\n",
       "      <td>3.40</td>\n",
       "      <td>10.0</td>\n",
       "      <td>102</td>\n",
       "      <td>5500</td>\n",
       "      <td>24</td>\n",
       "      <td>30</td>\n",
       "      <td>13950</td>\n",
       "    </tr>\n",
       "    <tr>\n",
       "      <th>4</th>\n",
       "      <td>2</td>\n",
       "      <td>164</td>\n",
       "      <td>audi</td>\n",
       "      <td>gas</td>\n",
       "      <td>std</td>\n",
       "      <td>four</td>\n",
       "      <td>sedan</td>\n",
       "      <td>4wd</td>\n",
       "      <td>front</td>\n",
       "      <td>99.4</td>\n",
       "      <td>...</td>\n",
       "      <td>136</td>\n",
       "      <td>mpfi</td>\n",
       "      <td>3.19</td>\n",
       "      <td>3.40</td>\n",
       "      <td>8.0</td>\n",
       "      <td>115</td>\n",
       "      <td>5500</td>\n",
       "      <td>18</td>\n",
       "      <td>22</td>\n",
       "      <td>17450</td>\n",
       "    </tr>\n",
       "  </tbody>\n",
       "</table>\n",
       "<p>5 rows × 26 columns</p>\n",
       "</div>"
      ],
      "text/plain": [
       "   symboling normalized_losses         make fuel_type aspiration num_doors  \\\n",
       "0          3                 ?  alfa-romero       gas        std       two   \n",
       "1          3                 ?  alfa-romero       gas        std       two   \n",
       "2          1                 ?  alfa-romero       gas        std       two   \n",
       "3          2               164         audi       gas        std      four   \n",
       "4          2               164         audi       gas        std      four   \n",
       "\n",
       "    body_style drive_wheels engine_location  wheel_base  ...    engine_size  \\\n",
       "0  convertible          rwd           front        88.6  ...            130   \n",
       "1  convertible          rwd           front        88.6  ...            130   \n",
       "2    hatchback          rwd           front        94.5  ...            152   \n",
       "3        sedan          fwd           front        99.8  ...            109   \n",
       "4        sedan          4wd           front        99.4  ...            136   \n",
       "\n",
       "   fuel_system  bore  stroke compression_ratio horsepower  peak_rpm city_mpg  \\\n",
       "0         mpfi  3.47    2.68               9.0        111      5000       21   \n",
       "1         mpfi  3.47    2.68               9.0        111      5000       21   \n",
       "2         mpfi  2.68    3.47               9.0        154      5000       19   \n",
       "3         mpfi  3.19    3.40              10.0        102      5500       24   \n",
       "4         mpfi  3.19    3.40               8.0        115      5500       18   \n",
       "\n",
       "  highway_mpg  price  \n",
       "0          27  13495  \n",
       "1          27  16500  \n",
       "2          26  16500  \n",
       "3          30  13950  \n",
       "4          22  17450  \n",
       "\n",
       "[5 rows x 26 columns]"
      ]
     },
     "execution_count": 66,
     "metadata": {},
     "output_type": "execute_result"
    }
   ],
   "source": [
    "cars.head()\n",
    "#price is the target column\n",
    "#symboling, normalized_losses, wheel_base, length, width, height, \n",
    "#curb weight, engine size, bore, stroke, compression ratio\n",
    "#horsepower, peak_rpm, city mpg, highway mpg, price are numeric\n",
    "#price is the target column\n"
   ]
  },
  {
   "cell_type": "code",
   "execution_count": 67,
   "metadata": {
    "collapsed": false
   },
   "outputs": [],
   "source": [
    "cars['normalized_losses'] = cars['normalized_losses'].replace('?',np.NaN)\n",
    " "
   ]
  },
  {
   "cell_type": "code",
   "execution_count": 68,
   "metadata": {
    "collapsed": false
   },
   "outputs": [
    {
     "data": {
      "text/plain": [
       "159"
      ]
     },
     "execution_count": 68,
     "metadata": {},
     "output_type": "execute_result"
    }
   ],
   "source": [
    "cars['normalized_losses']  = cars['normalized_losses'].dropna()\n",
    "cars = cars.replace('?',np.NaN)\n",
    "cars = cars.dropna()\n",
    "len(cars)"
   ]
  },
  {
   "cell_type": "code",
   "execution_count": 69,
   "metadata": {
    "collapsed": true
   },
   "outputs": [],
   "source": [
    "carscopy = cars[['symboling', 'normalized_losses','wheel_base',\n",
    "                 'engine_size', 'length', 'width', 'height',\n",
    "                 'curb_weight' ,'bore','stroke','compression_ratio'\n",
    "                ,'horsepower','peak_rpm','city_mpg','highway_mpg'\n",
    "                ,'price']]\n"
   ]
  },
  {
   "cell_type": "code",
   "execution_count": 70,
   "metadata": {
    "collapsed": false
   },
   "outputs": [
    {
     "data": {
      "text/html": [
       "<div>\n",
       "<style scoped>\n",
       "    .dataframe tbody tr th:only-of-type {\n",
       "        vertical-align: middle;\n",
       "    }\n",
       "\n",
       "    .dataframe tbody tr th {\n",
       "        vertical-align: top;\n",
       "    }\n",
       "\n",
       "    .dataframe thead th {\n",
       "        text-align: right;\n",
       "    }\n",
       "</style>\n",
       "<table border=\"1\" class=\"dataframe\">\n",
       "  <thead>\n",
       "    <tr style=\"text-align: right;\">\n",
       "      <th></th>\n",
       "      <th>symboling</th>\n",
       "      <th>normalized_losses</th>\n",
       "      <th>wheel_base</th>\n",
       "      <th>engine_size</th>\n",
       "      <th>length</th>\n",
       "      <th>width</th>\n",
       "      <th>height</th>\n",
       "      <th>curb_weight</th>\n",
       "      <th>bore</th>\n",
       "      <th>stroke</th>\n",
       "      <th>compression_ratio</th>\n",
       "      <th>horsepower</th>\n",
       "      <th>peak_rpm</th>\n",
       "      <th>city_mpg</th>\n",
       "      <th>highway_mpg</th>\n",
       "      <th>price</th>\n",
       "    </tr>\n",
       "  </thead>\n",
       "  <tbody>\n",
       "    <tr>\n",
       "      <th>3</th>\n",
       "      <td>2.0</td>\n",
       "      <td>164.0</td>\n",
       "      <td>99.8</td>\n",
       "      <td>109.0</td>\n",
       "      <td>176.6</td>\n",
       "      <td>66.2</td>\n",
       "      <td>54.3</td>\n",
       "      <td>2337.0</td>\n",
       "      <td>3.19</td>\n",
       "      <td>3.4</td>\n",
       "      <td>10.0</td>\n",
       "      <td>102.0</td>\n",
       "      <td>5500.0</td>\n",
       "      <td>24.0</td>\n",
       "      <td>30.0</td>\n",
       "      <td>13950.0</td>\n",
       "    </tr>\n",
       "    <tr>\n",
       "      <th>4</th>\n",
       "      <td>2.0</td>\n",
       "      <td>164.0</td>\n",
       "      <td>99.4</td>\n",
       "      <td>136.0</td>\n",
       "      <td>176.6</td>\n",
       "      <td>66.4</td>\n",
       "      <td>54.3</td>\n",
       "      <td>2824.0</td>\n",
       "      <td>3.19</td>\n",
       "      <td>3.4</td>\n",
       "      <td>8.0</td>\n",
       "      <td>115.0</td>\n",
       "      <td>5500.0</td>\n",
       "      <td>18.0</td>\n",
       "      <td>22.0</td>\n",
       "      <td>17450.0</td>\n",
       "    </tr>\n",
       "    <tr>\n",
       "      <th>6</th>\n",
       "      <td>1.0</td>\n",
       "      <td>158.0</td>\n",
       "      <td>105.8</td>\n",
       "      <td>136.0</td>\n",
       "      <td>192.7</td>\n",
       "      <td>71.4</td>\n",
       "      <td>55.7</td>\n",
       "      <td>2844.0</td>\n",
       "      <td>3.19</td>\n",
       "      <td>3.4</td>\n",
       "      <td>8.5</td>\n",
       "      <td>110.0</td>\n",
       "      <td>5500.0</td>\n",
       "      <td>19.0</td>\n",
       "      <td>25.0</td>\n",
       "      <td>17710.0</td>\n",
       "    </tr>\n",
       "    <tr>\n",
       "      <th>8</th>\n",
       "      <td>1.0</td>\n",
       "      <td>158.0</td>\n",
       "      <td>105.8</td>\n",
       "      <td>131.0</td>\n",
       "      <td>192.7</td>\n",
       "      <td>71.4</td>\n",
       "      <td>55.9</td>\n",
       "      <td>3086.0</td>\n",
       "      <td>3.13</td>\n",
       "      <td>3.4</td>\n",
       "      <td>8.3</td>\n",
       "      <td>140.0</td>\n",
       "      <td>5500.0</td>\n",
       "      <td>17.0</td>\n",
       "      <td>20.0</td>\n",
       "      <td>23875.0</td>\n",
       "    </tr>\n",
       "    <tr>\n",
       "      <th>10</th>\n",
       "      <td>2.0</td>\n",
       "      <td>192.0</td>\n",
       "      <td>101.2</td>\n",
       "      <td>108.0</td>\n",
       "      <td>176.8</td>\n",
       "      <td>64.8</td>\n",
       "      <td>54.3</td>\n",
       "      <td>2395.0</td>\n",
       "      <td>3.50</td>\n",
       "      <td>2.8</td>\n",
       "      <td>8.8</td>\n",
       "      <td>101.0</td>\n",
       "      <td>5800.0</td>\n",
       "      <td>23.0</td>\n",
       "      <td>29.0</td>\n",
       "      <td>16430.0</td>\n",
       "    </tr>\n",
       "  </tbody>\n",
       "</table>\n",
       "</div>"
      ],
      "text/plain": [
       "    symboling  normalized_losses  wheel_base  engine_size  length  width  \\\n",
       "3         2.0              164.0        99.8        109.0   176.6   66.2   \n",
       "4         2.0              164.0        99.4        136.0   176.6   66.4   \n",
       "6         1.0              158.0       105.8        136.0   192.7   71.4   \n",
       "8         1.0              158.0       105.8        131.0   192.7   71.4   \n",
       "10        2.0              192.0       101.2        108.0   176.8   64.8   \n",
       "\n",
       "    height  curb_weight  bore  stroke  compression_ratio  horsepower  \\\n",
       "3     54.3       2337.0  3.19     3.4               10.0       102.0   \n",
       "4     54.3       2824.0  3.19     3.4                8.0       115.0   \n",
       "6     55.7       2844.0  3.19     3.4                8.5       110.0   \n",
       "8     55.9       3086.0  3.13     3.4                8.3       140.0   \n",
       "10    54.3       2395.0  3.50     2.8                8.8       101.0   \n",
       "\n",
       "    peak_rpm  city_mpg  highway_mpg    price  \n",
       "3     5500.0      24.0         30.0  13950.0  \n",
       "4     5500.0      18.0         22.0  17450.0  \n",
       "6     5500.0      19.0         25.0  17710.0  \n",
       "8     5500.0      17.0         20.0  23875.0  \n",
       "10    5800.0      23.0         29.0  16430.0  "
      ]
     },
     "execution_count": 70,
     "metadata": {},
     "output_type": "execute_result"
    }
   ],
   "source": [
    "carscopy = carscopy.astype(float)\n",
    "carscopy.head()"
   ]
  },
  {
   "cell_type": "code",
   "execution_count": 71,
   "metadata": {
    "collapsed": false
   },
   "outputs": [],
   "source": [
    "carscopynormal = (carscopy - carscopy.mean())/(carscopy.std())\n",
    "    "
   ]
  },
  {
   "cell_type": "code",
   "execution_count": 72,
   "metadata": {
    "collapsed": false
   },
   "outputs": [
    {
     "data": {
      "text/html": [
       "<div>\n",
       "<style scoped>\n",
       "    .dataframe tbody tr th:only-of-type {\n",
       "        vertical-align: middle;\n",
       "    }\n",
       "\n",
       "    .dataframe tbody tr th {\n",
       "        vertical-align: top;\n",
       "    }\n",
       "\n",
       "    .dataframe thead th {\n",
       "        text-align: right;\n",
       "    }\n",
       "</style>\n",
       "<table border=\"1\" class=\"dataframe\">\n",
       "  <thead>\n",
       "    <tr style=\"text-align: right;\">\n",
       "      <th></th>\n",
       "      <th>symboling</th>\n",
       "      <th>normalized_losses</th>\n",
       "      <th>wheel_base</th>\n",
       "      <th>engine_size</th>\n",
       "      <th>length</th>\n",
       "      <th>width</th>\n",
       "      <th>height</th>\n",
       "      <th>curb_weight</th>\n",
       "      <th>bore</th>\n",
       "      <th>stroke</th>\n",
       "      <th>compression_ratio</th>\n",
       "      <th>horsepower</th>\n",
       "      <th>peak_rpm</th>\n",
       "      <th>city_mpg</th>\n",
       "      <th>highway_mpg</th>\n",
       "      <th>price</th>\n",
       "    </tr>\n",
       "  </thead>\n",
       "  <tbody>\n",
       "    <tr>\n",
       "      <th>3</th>\n",
       "      <td>1.059564</td>\n",
       "      <td>1.202423</td>\n",
       "      <td>0.297218</td>\n",
       "      <td>-0.335724</td>\n",
       "      <td>0.363282</td>\n",
       "      <td>0.304152</td>\n",
       "      <td>0.176585</td>\n",
       "      <td>-0.257580</td>\n",
       "      <td>-0.411938</td>\n",
       "      <td>0.554950</td>\n",
       "      <td>-0.041428</td>\n",
       "      <td>0.200645</td>\n",
       "      <td>0.829113</td>\n",
       "      <td>-0.413638</td>\n",
       "      <td>-0.322294</td>\n",
       "      <td>0.426052</td>\n",
       "    </tr>\n",
       "    <tr>\n",
       "      <th>4</th>\n",
       "      <td>1.059564</td>\n",
       "      <td>1.202423</td>\n",
       "      <td>0.219810</td>\n",
       "      <td>0.550661</td>\n",
       "      <td>0.363282</td>\n",
       "      <td>0.406828</td>\n",
       "      <td>0.176585</td>\n",
       "      <td>0.752917</td>\n",
       "      <td>-0.411938</td>\n",
       "      <td>0.554950</td>\n",
       "      <td>-0.555636</td>\n",
       "      <td>0.623841</td>\n",
       "      <td>0.829113</td>\n",
       "      <td>-1.397706</td>\n",
       "      <td>-1.560840</td>\n",
       "      <td>1.021507</td>\n",
       "    </tr>\n",
       "    <tr>\n",
       "      <th>6</th>\n",
       "      <td>0.221401</td>\n",
       "      <td>1.034126</td>\n",
       "      <td>1.458340</td>\n",
       "      <td>0.550661</td>\n",
       "      <td>1.760466</td>\n",
       "      <td>2.973718</td>\n",
       "      <td>0.793662</td>\n",
       "      <td>0.794415</td>\n",
       "      <td>-0.411938</td>\n",
       "      <td>0.554950</td>\n",
       "      <td>-0.427084</td>\n",
       "      <td>0.461073</td>\n",
       "      <td>0.829113</td>\n",
       "      <td>-1.233695</td>\n",
       "      <td>-1.096385</td>\n",
       "      <td>1.065741</td>\n",
       "    </tr>\n",
       "    <tr>\n",
       "      <th>8</th>\n",
       "      <td>0.221401</td>\n",
       "      <td>1.034126</td>\n",
       "      <td>1.458340</td>\n",
       "      <td>0.386516</td>\n",
       "      <td>1.760466</td>\n",
       "      <td>2.973718</td>\n",
       "      <td>0.881816</td>\n",
       "      <td>1.296551</td>\n",
       "      <td>-0.636375</td>\n",
       "      <td>0.554950</td>\n",
       "      <td>-0.478505</td>\n",
       "      <td>1.437681</td>\n",
       "      <td>0.829113</td>\n",
       "      <td>-1.561717</td>\n",
       "      <td>-1.870477</td>\n",
       "      <td>2.114592</td>\n",
       "    </tr>\n",
       "    <tr>\n",
       "      <th>10</th>\n",
       "      <td>1.059564</td>\n",
       "      <td>1.987808</td>\n",
       "      <td>0.568146</td>\n",
       "      <td>-0.368553</td>\n",
       "      <td>0.380638</td>\n",
       "      <td>-0.414577</td>\n",
       "      <td>0.176585</td>\n",
       "      <td>-0.137233</td>\n",
       "      <td>0.747653</td>\n",
       "      <td>-1.479723</td>\n",
       "      <td>-0.349953</td>\n",
       "      <td>0.168091</td>\n",
       "      <td>1.473229</td>\n",
       "      <td>-0.577650</td>\n",
       "      <td>-0.477113</td>\n",
       "      <td>0.847974</td>\n",
       "    </tr>\n",
       "  </tbody>\n",
       "</table>\n",
       "</div>"
      ],
      "text/plain": [
       "    symboling  normalized_losses  wheel_base  engine_size    length     width  \\\n",
       "3    1.059564           1.202423    0.297218    -0.335724  0.363282  0.304152   \n",
       "4    1.059564           1.202423    0.219810     0.550661  0.363282  0.406828   \n",
       "6    0.221401           1.034126    1.458340     0.550661  1.760466  2.973718   \n",
       "8    0.221401           1.034126    1.458340     0.386516  1.760466  2.973718   \n",
       "10   1.059564           1.987808    0.568146    -0.368553  0.380638 -0.414577   \n",
       "\n",
       "      height  curb_weight      bore    stroke  compression_ratio  horsepower  \\\n",
       "3   0.176585    -0.257580 -0.411938  0.554950          -0.041428    0.200645   \n",
       "4   0.176585     0.752917 -0.411938  0.554950          -0.555636    0.623841   \n",
       "6   0.793662     0.794415 -0.411938  0.554950          -0.427084    0.461073   \n",
       "8   0.881816     1.296551 -0.636375  0.554950          -0.478505    1.437681   \n",
       "10  0.176585    -0.137233  0.747653 -1.479723          -0.349953    0.168091   \n",
       "\n",
       "    peak_rpm  city_mpg  highway_mpg     price  \n",
       "3   0.829113 -0.413638    -0.322294  0.426052  \n",
       "4   0.829113 -1.397706    -1.560840  1.021507  \n",
       "6   0.829113 -1.233695    -1.096385  1.065741  \n",
       "8   0.829113 -1.561717    -1.870477  2.114592  \n",
       "10  1.473229 -0.577650    -0.477113  0.847974  "
      ]
     },
     "execution_count": 72,
     "metadata": {},
     "output_type": "execute_result"
    }
   ],
   "source": [
    "carscopynormal.head()\n",
    "        "
   ]
  },
  {
   "cell_type": "code",
   "execution_count": 73,
   "metadata": {
    "collapsed": false
   },
   "outputs": [
    {
     "data": {
      "text/html": [
       "<div>\n",
       "<style scoped>\n",
       "    .dataframe tbody tr th:only-of-type {\n",
       "        vertical-align: middle;\n",
       "    }\n",
       "\n",
       "    .dataframe tbody tr th {\n",
       "        vertical-align: top;\n",
       "    }\n",
       "\n",
       "    .dataframe thead th {\n",
       "        text-align: right;\n",
       "    }\n",
       "</style>\n",
       "<table border=\"1\" class=\"dataframe\">\n",
       "  <thead>\n",
       "    <tr style=\"text-align: right;\">\n",
       "      <th></th>\n",
       "      <th>symboling</th>\n",
       "      <th>normalized_losses</th>\n",
       "      <th>wheel_base</th>\n",
       "      <th>engine_size</th>\n",
       "      <th>length</th>\n",
       "      <th>width</th>\n",
       "      <th>height</th>\n",
       "      <th>curb_weight</th>\n",
       "      <th>bore</th>\n",
       "      <th>stroke</th>\n",
       "      <th>compression_ratio</th>\n",
       "      <th>horsepower</th>\n",
       "      <th>peak_rpm</th>\n",
       "      <th>city_mpg</th>\n",
       "      <th>highway_mpg</th>\n",
       "      <th>price</th>\n",
       "    </tr>\n",
       "  </thead>\n",
       "  <tbody>\n",
       "    <tr>\n",
       "      <th>3</th>\n",
       "      <td>1.059564</td>\n",
       "      <td>1.202423</td>\n",
       "      <td>0.297218</td>\n",
       "      <td>-0.335724</td>\n",
       "      <td>0.363282</td>\n",
       "      <td>0.304152</td>\n",
       "      <td>0.176585</td>\n",
       "      <td>-0.257580</td>\n",
       "      <td>-0.411938</td>\n",
       "      <td>0.554950</td>\n",
       "      <td>-0.041428</td>\n",
       "      <td>0.200645</td>\n",
       "      <td>0.829113</td>\n",
       "      <td>-0.413638</td>\n",
       "      <td>-0.322294</td>\n",
       "      <td>0.426052</td>\n",
       "    </tr>\n",
       "    <tr>\n",
       "      <th>4</th>\n",
       "      <td>1.059564</td>\n",
       "      <td>1.202423</td>\n",
       "      <td>0.219810</td>\n",
       "      <td>0.550661</td>\n",
       "      <td>0.363282</td>\n",
       "      <td>0.406828</td>\n",
       "      <td>0.176585</td>\n",
       "      <td>0.752917</td>\n",
       "      <td>-0.411938</td>\n",
       "      <td>0.554950</td>\n",
       "      <td>-0.555636</td>\n",
       "      <td>0.623841</td>\n",
       "      <td>0.829113</td>\n",
       "      <td>-1.397706</td>\n",
       "      <td>-1.560840</td>\n",
       "      <td>1.021507</td>\n",
       "    </tr>\n",
       "    <tr>\n",
       "      <th>6</th>\n",
       "      <td>0.221401</td>\n",
       "      <td>1.034126</td>\n",
       "      <td>1.458340</td>\n",
       "      <td>0.550661</td>\n",
       "      <td>1.760466</td>\n",
       "      <td>NaN</td>\n",
       "      <td>0.793662</td>\n",
       "      <td>0.794415</td>\n",
       "      <td>-0.411938</td>\n",
       "      <td>0.554950</td>\n",
       "      <td>-0.427084</td>\n",
       "      <td>0.461073</td>\n",
       "      <td>0.829113</td>\n",
       "      <td>-1.233695</td>\n",
       "      <td>-1.096385</td>\n",
       "      <td>1.065741</td>\n",
       "    </tr>\n",
       "    <tr>\n",
       "      <th>8</th>\n",
       "      <td>0.221401</td>\n",
       "      <td>1.034126</td>\n",
       "      <td>1.458340</td>\n",
       "      <td>0.386516</td>\n",
       "      <td>1.760466</td>\n",
       "      <td>NaN</td>\n",
       "      <td>0.881816</td>\n",
       "      <td>1.296551</td>\n",
       "      <td>-0.636375</td>\n",
       "      <td>0.554950</td>\n",
       "      <td>-0.478505</td>\n",
       "      <td>1.437681</td>\n",
       "      <td>0.829113</td>\n",
       "      <td>-1.561717</td>\n",
       "      <td>-1.870477</td>\n",
       "      <td>NaN</td>\n",
       "    </tr>\n",
       "    <tr>\n",
       "      <th>10</th>\n",
       "      <td>1.059564</td>\n",
       "      <td>1.987808</td>\n",
       "      <td>0.568146</td>\n",
       "      <td>-0.368553</td>\n",
       "      <td>0.380638</td>\n",
       "      <td>-0.414577</td>\n",
       "      <td>0.176585</td>\n",
       "      <td>-0.137233</td>\n",
       "      <td>0.747653</td>\n",
       "      <td>-1.479723</td>\n",
       "      <td>-0.349953</td>\n",
       "      <td>0.168091</td>\n",
       "      <td>1.473229</td>\n",
       "      <td>-0.577650</td>\n",
       "      <td>-0.477113</td>\n",
       "      <td>0.847974</td>\n",
       "    </tr>\n",
       "  </tbody>\n",
       "</table>\n",
       "</div>"
      ],
      "text/plain": [
       "    symboling  normalized_losses  wheel_base  engine_size    length     width  \\\n",
       "3    1.059564           1.202423    0.297218    -0.335724  0.363282  0.304152   \n",
       "4    1.059564           1.202423    0.219810     0.550661  0.363282  0.406828   \n",
       "6    0.221401           1.034126    1.458340     0.550661  1.760466       NaN   \n",
       "8    0.221401           1.034126    1.458340     0.386516  1.760466       NaN   \n",
       "10   1.059564           1.987808    0.568146    -0.368553  0.380638 -0.414577   \n",
       "\n",
       "      height  curb_weight      bore    stroke  compression_ratio  horsepower  \\\n",
       "3   0.176585    -0.257580 -0.411938  0.554950          -0.041428    0.200645   \n",
       "4   0.176585     0.752917 -0.411938  0.554950          -0.555636    0.623841   \n",
       "6   0.793662     0.794415 -0.411938  0.554950          -0.427084    0.461073   \n",
       "8   0.881816     1.296551 -0.636375  0.554950          -0.478505    1.437681   \n",
       "10  0.176585    -0.137233  0.747653 -1.479723          -0.349953    0.168091   \n",
       "\n",
       "    peak_rpm  city_mpg  highway_mpg     price  \n",
       "3   0.829113 -0.413638    -0.322294  0.426052  \n",
       "4   0.829113 -1.397706    -1.560840  1.021507  \n",
       "6   0.829113 -1.233695    -1.096385  1.065741  \n",
       "8   0.829113 -1.561717    -1.870477       NaN  \n",
       "10  1.473229 -0.577650    -0.477113  0.847974  "
      ]
     },
     "execution_count": 73,
     "metadata": {},
     "output_type": "execute_result"
    }
   ],
   "source": [
    "carscopynormal = carscopynormal[carscopynormal <2]\n",
    "carscopynormal = carscopynormal[carscopynormal >-2]\n",
    "carscopynormal.head()\n",
    "\n"
   ]
  },
  {
   "cell_type": "code",
   "execution_count": 74,
   "metadata": {
    "collapsed": false
   },
   "outputs": [
    {
     "data": {
      "text/html": [
       "<div>\n",
       "<style scoped>\n",
       "    .dataframe tbody tr th:only-of-type {\n",
       "        vertical-align: middle;\n",
       "    }\n",
       "\n",
       "    .dataframe tbody tr th {\n",
       "        vertical-align: top;\n",
       "    }\n",
       "\n",
       "    .dataframe thead th {\n",
       "        text-align: right;\n",
       "    }\n",
       "</style>\n",
       "<table border=\"1\" class=\"dataframe\">\n",
       "  <thead>\n",
       "    <tr style=\"text-align: right;\">\n",
       "      <th></th>\n",
       "      <th>symboling</th>\n",
       "      <th>normalized_losses</th>\n",
       "      <th>wheel_base</th>\n",
       "      <th>engine_size</th>\n",
       "      <th>length</th>\n",
       "      <th>width</th>\n",
       "      <th>height</th>\n",
       "      <th>curb_weight</th>\n",
       "      <th>bore</th>\n",
       "      <th>stroke</th>\n",
       "      <th>compression_ratio</th>\n",
       "      <th>horsepower</th>\n",
       "      <th>peak_rpm</th>\n",
       "      <th>city_mpg</th>\n",
       "      <th>highway_mpg</th>\n",
       "      <th>price</th>\n",
       "    </tr>\n",
       "  </thead>\n",
       "  <tbody>\n",
       "    <tr>\n",
       "      <th>3</th>\n",
       "      <td>1.059564</td>\n",
       "      <td>1.202423</td>\n",
       "      <td>0.297218</td>\n",
       "      <td>-0.335724</td>\n",
       "      <td>0.363282</td>\n",
       "      <td>0.304152</td>\n",
       "      <td>0.176585</td>\n",
       "      <td>-0.257580</td>\n",
       "      <td>-0.411938</td>\n",
       "      <td>0.554950</td>\n",
       "      <td>-0.041428</td>\n",
       "      <td>0.200645</td>\n",
       "      <td>0.829113</td>\n",
       "      <td>-0.413638</td>\n",
       "      <td>-0.322294</td>\n",
       "      <td>0.426052</td>\n",
       "    </tr>\n",
       "    <tr>\n",
       "      <th>4</th>\n",
       "      <td>1.059564</td>\n",
       "      <td>1.202423</td>\n",
       "      <td>0.219810</td>\n",
       "      <td>0.550661</td>\n",
       "      <td>0.363282</td>\n",
       "      <td>0.406828</td>\n",
       "      <td>0.176585</td>\n",
       "      <td>0.752917</td>\n",
       "      <td>-0.411938</td>\n",
       "      <td>0.554950</td>\n",
       "      <td>-0.555636</td>\n",
       "      <td>0.623841</td>\n",
       "      <td>0.829113</td>\n",
       "      <td>-1.397706</td>\n",
       "      <td>-1.560840</td>\n",
       "      <td>1.021507</td>\n",
       "    </tr>\n",
       "    <tr>\n",
       "      <th>10</th>\n",
       "      <td>1.059564</td>\n",
       "      <td>1.987808</td>\n",
       "      <td>0.568146</td>\n",
       "      <td>-0.368553</td>\n",
       "      <td>0.380638</td>\n",
       "      <td>-0.414577</td>\n",
       "      <td>0.176585</td>\n",
       "      <td>-0.137233</td>\n",
       "      <td>0.747653</td>\n",
       "      <td>-1.479723</td>\n",
       "      <td>-0.349953</td>\n",
       "      <td>0.168091</td>\n",
       "      <td>1.473229</td>\n",
       "      <td>-0.577650</td>\n",
       "      <td>-0.477113</td>\n",
       "      <td>0.847974</td>\n",
       "    </tr>\n",
       "    <tr>\n",
       "      <th>11</th>\n",
       "      <td>-0.616761</td>\n",
       "      <td>1.987808</td>\n",
       "      <td>0.568146</td>\n",
       "      <td>-0.368553</td>\n",
       "      <td>0.380638</td>\n",
       "      <td>-0.414577</td>\n",
       "      <td>0.176585</td>\n",
       "      <td>-0.137233</td>\n",
       "      <td>0.747653</td>\n",
       "      <td>-1.479723</td>\n",
       "      <td>-0.349953</td>\n",
       "      <td>0.168091</td>\n",
       "      <td>1.473229</td>\n",
       "      <td>-0.577650</td>\n",
       "      <td>-0.477113</td>\n",
       "      <td>0.932189</td>\n",
       "    </tr>\n",
       "    <tr>\n",
       "      <th>12</th>\n",
       "      <td>-0.616761</td>\n",
       "      <td>1.875611</td>\n",
       "      <td>0.568146</td>\n",
       "      <td>1.469876</td>\n",
       "      <td>0.380638</td>\n",
       "      <td>-0.414577</td>\n",
       "      <td>0.176585</td>\n",
       "      <td>0.516373</td>\n",
       "      <td>0.036936</td>\n",
       "      <td>-0.157186</td>\n",
       "      <td>-0.298532</td>\n",
       "      <td>0.819163</td>\n",
       "      <td>-1.854702</td>\n",
       "      <td>-0.905672</td>\n",
       "      <td>-0.631931</td>\n",
       "      <td>1.620365</td>\n",
       "    </tr>\n",
       "  </tbody>\n",
       "</table>\n",
       "</div>"
      ],
      "text/plain": [
       "    symboling  normalized_losses  wheel_base  engine_size    length     width  \\\n",
       "3    1.059564           1.202423    0.297218    -0.335724  0.363282  0.304152   \n",
       "4    1.059564           1.202423    0.219810     0.550661  0.363282  0.406828   \n",
       "10   1.059564           1.987808    0.568146    -0.368553  0.380638 -0.414577   \n",
       "11  -0.616761           1.987808    0.568146    -0.368553  0.380638 -0.414577   \n",
       "12  -0.616761           1.875611    0.568146     1.469876  0.380638 -0.414577   \n",
       "\n",
       "      height  curb_weight      bore    stroke  compression_ratio  horsepower  \\\n",
       "3   0.176585    -0.257580 -0.411938  0.554950          -0.041428    0.200645   \n",
       "4   0.176585     0.752917 -0.411938  0.554950          -0.555636    0.623841   \n",
       "10  0.176585    -0.137233  0.747653 -1.479723          -0.349953    0.168091   \n",
       "11  0.176585    -0.137233  0.747653 -1.479723          -0.349953    0.168091   \n",
       "12  0.176585     0.516373  0.036936 -0.157186          -0.298532    0.819163   \n",
       "\n",
       "    peak_rpm  city_mpg  highway_mpg     price  \n",
       "3   0.829113 -0.413638    -0.322294  0.426052  \n",
       "4   0.829113 -1.397706    -1.560840  1.021507  \n",
       "10  1.473229 -0.577650    -0.477113  0.847974  \n",
       "11  1.473229 -0.577650    -0.477113  0.932189  \n",
       "12 -1.854702 -0.905672    -0.631931  1.620365  "
      ]
     },
     "execution_count": 74,
     "metadata": {},
     "output_type": "execute_result"
    }
   ],
   "source": [
    "carscopynormal = carscopynormal.dropna()\n",
    "len(carscopynormal)\n",
    "carscopynormal.head()"
   ]
  },
  {
   "cell_type": "code",
   "execution_count": 75,
   "metadata": {
    "collapsed": false
   },
   "outputs": [
    {
     "data": {
      "text/html": [
       "<div>\n",
       "<style scoped>\n",
       "    .dataframe tbody tr th:only-of-type {\n",
       "        vertical-align: middle;\n",
       "    }\n",
       "\n",
       "    .dataframe tbody tr th {\n",
       "        vertical-align: top;\n",
       "    }\n",
       "\n",
       "    .dataframe thead th {\n",
       "        text-align: right;\n",
       "    }\n",
       "</style>\n",
       "<table border=\"1\" class=\"dataframe\">\n",
       "  <thead>\n",
       "    <tr style=\"text-align: right;\">\n",
       "      <th></th>\n",
       "      <th>symboling</th>\n",
       "      <th>normalized_losses</th>\n",
       "      <th>wheel_base</th>\n",
       "      <th>engine_size</th>\n",
       "      <th>length</th>\n",
       "      <th>width</th>\n",
       "      <th>height</th>\n",
       "      <th>curb_weight</th>\n",
       "      <th>bore</th>\n",
       "      <th>stroke</th>\n",
       "      <th>compression_ratio</th>\n",
       "      <th>horsepower</th>\n",
       "      <th>peak_rpm</th>\n",
       "      <th>city_mpg</th>\n",
       "      <th>highway_mpg</th>\n",
       "      <th>price</th>\n",
       "    </tr>\n",
       "  </thead>\n",
       "  <tbody>\n",
       "    <tr>\n",
       "      <th>3</th>\n",
       "      <td>0.711913</td>\n",
       "      <td>0.740485</td>\n",
       "      <td>0.559444</td>\n",
       "      <td>0.432855</td>\n",
       "      <td>0.572656</td>\n",
       "      <td>0.560830</td>\n",
       "      <td>0.535317</td>\n",
       "      <td>0.448484</td>\n",
       "      <td>0.417612</td>\n",
       "      <td>0.610990</td>\n",
       "      <td>0.491714</td>\n",
       "      <td>0.540129</td>\n",
       "      <td>0.665823</td>\n",
       "      <td>0.417272</td>\n",
       "      <td>0.435541</td>\n",
       "      <td>0.585210</td>\n",
       "    </tr>\n",
       "    <tr>\n",
       "      <th>4</th>\n",
       "      <td>0.711913</td>\n",
       "      <td>0.740485</td>\n",
       "      <td>0.543962</td>\n",
       "      <td>0.610132</td>\n",
       "      <td>0.572656</td>\n",
       "      <td>0.581366</td>\n",
       "      <td>0.535317</td>\n",
       "      <td>0.650583</td>\n",
       "      <td>0.417612</td>\n",
       "      <td>0.610990</td>\n",
       "      <td>0.388873</td>\n",
       "      <td>0.624768</td>\n",
       "      <td>0.665823</td>\n",
       "      <td>0.220459</td>\n",
       "      <td>0.187832</td>\n",
       "      <td>0.704301</td>\n",
       "    </tr>\n",
       "    <tr>\n",
       "      <th>10</th>\n",
       "      <td>0.711913</td>\n",
       "      <td>0.897562</td>\n",
       "      <td>0.613629</td>\n",
       "      <td>0.426289</td>\n",
       "      <td>0.576128</td>\n",
       "      <td>0.417085</td>\n",
       "      <td>0.535317</td>\n",
       "      <td>0.472553</td>\n",
       "      <td>0.649531</td>\n",
       "      <td>0.204055</td>\n",
       "      <td>0.430009</td>\n",
       "      <td>0.533618</td>\n",
       "      <td>0.794646</td>\n",
       "      <td>0.384470</td>\n",
       "      <td>0.404577</td>\n",
       "      <td>0.669595</td>\n",
       "    </tr>\n",
       "    <tr>\n",
       "      <th>11</th>\n",
       "      <td>0.376648</td>\n",
       "      <td>0.897562</td>\n",
       "      <td>0.613629</td>\n",
       "      <td>0.426289</td>\n",
       "      <td>0.576128</td>\n",
       "      <td>0.417085</td>\n",
       "      <td>0.535317</td>\n",
       "      <td>0.472553</td>\n",
       "      <td>0.649531</td>\n",
       "      <td>0.204055</td>\n",
       "      <td>0.430009</td>\n",
       "      <td>0.533618</td>\n",
       "      <td>0.794646</td>\n",
       "      <td>0.384470</td>\n",
       "      <td>0.404577</td>\n",
       "      <td>0.686438</td>\n",
       "    </tr>\n",
       "    <tr>\n",
       "      <th>12</th>\n",
       "      <td>0.376648</td>\n",
       "      <td>0.875122</td>\n",
       "      <td>0.613629</td>\n",
       "      <td>0.793975</td>\n",
       "      <td>0.576128</td>\n",
       "      <td>0.417085</td>\n",
       "      <td>0.535317</td>\n",
       "      <td>0.603275</td>\n",
       "      <td>0.507387</td>\n",
       "      <td>0.468563</td>\n",
       "      <td>0.440294</td>\n",
       "      <td>0.663833</td>\n",
       "      <td>0.129060</td>\n",
       "      <td>0.318866</td>\n",
       "      <td>0.373614</td>\n",
       "      <td>0.824073</td>\n",
       "    </tr>\n",
       "  </tbody>\n",
       "</table>\n",
       "</div>"
      ],
      "text/plain": [
       "    symboling  normalized_losses  wheel_base  engine_size    length     width  \\\n",
       "3    0.711913           0.740485    0.559444     0.432855  0.572656  0.560830   \n",
       "4    0.711913           0.740485    0.543962     0.610132  0.572656  0.581366   \n",
       "10   0.711913           0.897562    0.613629     0.426289  0.576128  0.417085   \n",
       "11   0.376648           0.897562    0.613629     0.426289  0.576128  0.417085   \n",
       "12   0.376648           0.875122    0.613629     0.793975  0.576128  0.417085   \n",
       "\n",
       "      height  curb_weight      bore    stroke  compression_ratio  horsepower  \\\n",
       "3   0.535317     0.448484  0.417612  0.610990           0.491714    0.540129   \n",
       "4   0.535317     0.650583  0.417612  0.610990           0.388873    0.624768   \n",
       "10  0.535317     0.472553  0.649531  0.204055           0.430009    0.533618   \n",
       "11  0.535317     0.472553  0.649531  0.204055           0.430009    0.533618   \n",
       "12  0.535317     0.603275  0.507387  0.468563           0.440294    0.663833   \n",
       "\n",
       "    peak_rpm  city_mpg  highway_mpg     price  \n",
       "3   0.665823  0.417272     0.435541  0.585210  \n",
       "4   0.665823  0.220459     0.187832  0.704301  \n",
       "10  0.794646  0.384470     0.404577  0.669595  \n",
       "11  0.794646  0.384470     0.404577  0.686438  \n",
       "12  0.129060  0.318866     0.373614  0.824073  "
      ]
     },
     "execution_count": 75,
     "metadata": {},
     "output_type": "execute_result"
    }
   ],
   "source": [
    "carscopynormal = carscopynormal/5 + 0.5\n",
    "carscopynormal.head()"
   ]
  },
  {
   "cell_type": "code",
   "execution_count": 76,
   "metadata": {
    "collapsed": false
   },
   "outputs": [
    {
     "data": {
      "text/plain": [
       "{'bore': 0.09414607209819742,\n",
       " 'city_mpg': 0.07988773106784765,\n",
       " 'compression_ratio': 0.11911320121407107,\n",
       " 'curb_weight': 0.06850724212596618,\n",
       " 'engine_size': 0.07164889599600435,\n",
       " 'height': 0.08350761457221226,\n",
       " 'highway_mpg': 0.0687514029265173,\n",
       " 'horsepower': 0.07328031405428054,\n",
       " 'length': 0.07041341938929666,\n",
       " 'normalized_losses': 0.12508118323226242,\n",
       " 'peak_rpm': 0.12944621527551012,\n",
       " 'stroke': 0.11391195811535974,\n",
       " 'symboling': 0.10442682794975484,\n",
       " 'wheel_base': 0.07904431369554259,\n",
       " 'width': 0.08052802771400802}"
      ]
     },
     "execution_count": 76,
     "metadata": {},
     "output_type": "execute_result"
    }
   ],
   "source": [
    "from sklearn.model_selection import cross_val_score, KFold\n",
    "from sklearn.neighbors import KNeighborsRegressor\n",
    "from sklearn.metrics import mean_squared_error\n",
    "def knn_train_test(train, target, dataframe):\n",
    "    kf = KFold(5, shuffle=True, random_state=1)\n",
    "    knn = KNeighborsRegressor()\n",
    "    mses = cross_val_score(knn, carscopynormal[[train]], carscopynormal[target], scoring='neg_mean_squared_error', cv=kf)\n",
    "    avg_rmse = np.mean(((abs(mses)))**(1/2))\n",
    "    return avg_rmse\n",
    "msedict = {}\n",
    "for c in carscopynormal.columns:\n",
    "    if c != 'price':\n",
    "        avg = knn_train_test(c, 'price', carscopynormal)\n",
    "        msedict[c] = avg\n",
    "msedict\n",
    "    \n",
    "    "
   ]
  },
  {
   "cell_type": "code",
   "execution_count": 77,
   "metadata": {
    "collapsed": false
   },
   "outputs": [
    {
     "data": {
      "text/plain": [
       "0.06850724212596618"
      ]
     },
     "execution_count": 77,
     "metadata": {},
     "output_type": "execute_result"
    }
   ],
   "source": [
    "min(msedict.values())\n",
    "#highway_mpg is the lowest with default"
   ]
  },
  {
   "cell_type": "code",
   "execution_count": 78,
   "metadata": {
    "collapsed": false
   },
   "outputs": [
    {
     "name": "stdout",
     "output_type": "stream",
     "text": [
      "symboling\n"
     ]
    },
    {
     "data": {
      "image/png": "[encoded data removed]",
      "text/plain": [
       "<matplotlib.figure.Figure at 0x7fd311d0f588>"
      ]
     },
     "metadata": {},
     "output_type": "display_data"
    },
    {
     "name": "stdout",
     "output_type": "stream",
     "text": [
      "normalized_losses\n"
     ]
    },
    {
     "data": {
      "image/png": "[encoded data removed]",
      "text/plain": [
       "<matplotlib.figure.Figure at 0x7fd311c528d0>"
      ]
     },
     "metadata": {},
     "output_type": "display_data"
    },
    {
     "name": "stdout",
     "output_type": "stream",
     "text": [
      "wheel_base\n"
     ]
    },
    {
     "data": {
      "image/png": "[encoded data removed]",
      "text/plain": [
       "<matplotlib.figure.Figure at 0x7fd311f65240>"
      ]
     },
     "metadata": {},
     "output_type": "display_data"
    },
    {
     "name": "stdout",
     "output_type": "stream",
     "text": [
      "engine_size\n"
     ]
    },
    {
     "data": {
      "image/png": "[encoded data removed]",
      "text/plain": [
       "<matplotlib.figure.Figure at 0x7fd310b26ac8>"
      ]
     },
     "metadata": {},
     "output_type": "display_data"
    },
    {
     "name": "stdout",
     "output_type": "stream",
     "text": [
      "length\n"
     ]
    },
    {
     "data": {
      "image/png": "[encoded data removed]",
      "text/plain": [
       "<matplotlib.figure.Figure at 0x7fd310d05160>"
      ]
     },
     "metadata": {},
     "output_type": "display_data"
    },
    {
     "name": "stdout",
     "output_type": "stream",
     "text": [
      "width\n"
     ]
    },
    {
     "data": {
      "image/png": "[encoded data removed]",
      "text/plain": [
       "<matplotlib.figure.Figure at 0x7fd31084a3c8>"
      ]
     },
     "metadata": {},
     "output_type": "display_data"
    },
    {
     "name": "stdout",
     "output_type": "stream",
     "text": [
      "height\n"
     ]
    },
    {
     "data": {
      "image/png": "[encoded data removed]",
      "text/plain": [
       "<matplotlib.figure.Figure at 0x7fd310d3cf28>"
      ]
     },
     "metadata": {},
     "output_type": "display_data"
    },
    {
     "name": "stdout",
     "output_type": "stream",
     "text": [
      "curb_weight\n"
     ]
    },
    {
     "data": {
      "image/png": "[encoded data removed]",
      "text/plain": [
       "<matplotlib.figure.Figure at 0x7fd310adf6a0>"
      ]
     },
     "metadata": {},
     "output_type": "display_data"
    },
    {
     "name": "stdout",
     "output_type": "stream",
     "text": [
      "bore\n"
     ]
    },
    {
     "data": {
      "image/png": "[encoded data removed]",
      "text/plain": [
       "<matplotlib.figure.Figure at 0x7fd310b3c390>"
      ]
     },
     "metadata": {},
     "output_type": "display_data"
    },
    {
     "name": "stdout",
     "output_type": "stream",
     "text": [
      "stroke\n"
     ]
    },
    {
     "data": {
      "image/png": "[encoded data removed]",
      "text/plain": [
       "<matplotlib.figure.Figure at 0x7fd310b34400>"
      ]
     },
     "metadata": {},
     "output_type": "display_data"
    },
    {
     "name": "stdout",
     "output_type": "stream",
     "text": [
      "compression_ratio\n"
     ]
    },
    {
     "data": {
      "image/png": "[encoded data removed]",
      "text/plain": [
       "<matplotlib.figure.Figure at 0x7fd31084b1d0>"
      ]
     },
     "metadata": {},
     "output_type": "display_data"
    },
    {
     "name": "stdout",
     "output_type": "stream",
     "text": [
      "horsepower\n"
     ]
    },
    {
     "data": {
      "image/png": "[encoded data removed]",
      "text/plain": [
       "<matplotlib.figure.Figure at 0x7fd311f50048>"
      ]
     },
     "metadata": {},
     "output_type": "display_data"
    },
    {
     "name": "stdout",
     "output_type": "stream",
     "text": [
      "peak_rpm\n"
     ]
    },
    {
     "data": {
      "image/png": "[encoded data removed]",
      "text/plain": [
       "<matplotlib.figure.Figure at 0x7fd3109e7c88>"
      ]
     },
     "metadata": {},
     "output_type": "display_data"
    },
    {
     "name": "stdout",
     "output_type": "stream",
     "text": [
      "city_mpg\n"
     ]
    },
    {
     "data": {
      "image/png": "[encoded data removed]",
      "text/plain": [
       "<matplotlib.figure.Figure at 0x7fd311bceb38>"
      ]
     },
     "metadata": {},
     "output_type": "display_data"
    },
    {
     "name": "stdout",
     "output_type": "stream",
     "text": [
      "highway_mpg\n"
     ]
    },
    {
     "data": {
      "image/png": "[encoded data removed]",
      "text/plain": [
       "<matplotlib.figure.Figure at 0x7fd311d6cda0>"
      ]
     },
     "metadata": {},
     "output_type": "display_data"
    }
   ],
   "source": [
    "import matplotlib.pyplot as plt\n",
    "%matplotlib inline\n",
    "\n",
    "def knn_train_test(train, target, dataframe, k):\n",
    "\n",
    "    kf = KFold(5, shuffle=True, random_state=1)\n",
    "    knn = KNeighborsRegressor(n_neighbors=k, algorithm='brute')\n",
    "    mses = cross_val_score(knn, dataframe[[train]], dataframe[target], scoring='neg_mean_squared_error', cv=kf)\n",
    "    avg_rmse = np.mean(((abs(mses)))**(1/2))\n",
    "\n",
    "    return avg_rmse\n",
    "\n",
    "for c in carscopynormal.columns:\n",
    "    array = [1,3,5,7,9]\n",
    "    \n",
    "    #plt.figure()\n",
    "    if c != 'price':\n",
    "        values = []\n",
    "        for i in array:\n",
    "            avg = knn_train_test(c, 'price', carscopynormal,i)\n",
    "            values.append(avg)\n",
    "        print(c)\n",
    "        plt.scatter(array,values)\n",
    "        plt.xlabel(c)\n",
    "        plt.ylabel('rmse')\n",
    "        plt.show()\n",
    "        \n",
    "\n",
    "        \n",
    "\n",
    "    "
   ]
  },
  {
   "cell_type": "code",
   "execution_count": 81,
   "metadata": {
    "collapsed": false
   },
   "outputs": [
    {
     "data": {
      "text/plain": [
       "[('curb_weight', 0.06850724212596618),\n",
       " ('highway_mpg', 0.0687514029265173),\n",
       " ('length', 0.07041341938929666),\n",
       " ('engine_size', 0.07164889599600435),\n",
       " ('horsepower', 0.07328031405428054),\n",
       " ('wheel_base', 0.07904431369554259),\n",
       " ('city_mpg', 0.07988773106784765),\n",
       " ('width', 0.08052802771400802),\n",
       " ('height', 0.08350761457221226),\n",
       " ('bore', 0.09414607209819742),\n",
       " ('symboling', 0.10442682794975484),\n",
       " ('stroke', 0.11391195811535974),\n",
       " ('compression_ratio', 0.11911320121407107),\n",
       " ('normalized_losses', 0.12508118323226242),\n",
       " ('peak_rpm', 0.12944621527551012)]"
      ]
     },
     "execution_count": 81,
     "metadata": {},
     "output_type": "execute_result"
    }
   ],
   "source": [
    "(sorted(msedict.items(), key = \n",
    "             lambda kv:(kv[1], kv[0])))\n"
   ]
  },
  {
   "cell_type": "code",
   "execution_count": null,
   "metadata": {
    "collapsed": false
   },
   "outputs": [],
   "source": [
    "msedict"
   ]
  },
  {
   "cell_type": "code",
   "execution_count": 84,
   "metadata": {
    "collapsed": false
   },
   "outputs": [
    {
     "name": "stdout",
     "output_type": "stream",
     "text": [
      "0.05692114032980457\n",
      "0.058708142981905985\n",
      "0.06598249474769302\n",
      "0.06397138339386903\n",
      "0.06039898950314713\n"
     ]
    }
   ],
   "source": [
    "def knn_train_test(train, target, dataframe):\n",
    "    kf = KFold(5, shuffle=True, random_state=1)\n",
    "    knn = KNeighborsRegressor(n_neighbors=5, algorithm='brute')\n",
    "    mses = cross_val_score(knn, carscopynormal[train], carscopynormal[target], scoring='neg_mean_squared_error', cv=kf)\n",
    "    avg_rmse = np.mean(((abs(mses)))**(1/2))\n",
    "    return avg_rmse\n",
    "features = ['curb_weight','highway_mpg']\n",
    "rmse = knn_train_test(features, 'price', carscopynormal)\n",
    "print(rmse)\n",
    "features.append('length')\n",
    "rmse = knn_train_test(features, 'price', carscopynormal)\n",
    "print(rmse)\n",
    "features.append('engine_size')\n",
    "rmse = knn_train_test(features, 'price', carscopynormal)\n",
    "print(rmse)\n",
    "features.append('horsepower')\n",
    "rmse = knn_train_test(features, 'price', carscopynormal)\n",
    "print(rmse)\n",
    "features.append('wheel_base')\n",
    "rmse = knn_train_test(features, 'price', carscopynormal)\n",
    "print(rmse)\n"
   ]
  },
  {
   "cell_type": "code",
   "execution_count": 88,
   "metadata": {
    "collapsed": false
   },
   "outputs": [
    {
     "data": {
      "image/png": "[encoded data removed]",
      "text/plain": [
       "<matplotlib.figure.Figure at 0x7fd310a17f28>"
      ]
     },
     "metadata": {},
     "output_type": "display_data"
    },
    {
     "data": {
      "image/png": "[encoded data removed]",
      "text/plain": [
       "<matplotlib.figure.Figure at 0x7fd310adf5f8>"
      ]
     },
     "metadata": {},
     "output_type": "display_data"
    },
    {
     "data": {
      "image/png": "[encoded data removed]",
      "text/plain": [
       "<matplotlib.figure.Figure at 0x7fd310b86d68>"
      ]
     },
     "metadata": {},
     "output_type": "display_data"
    }
   ],
   "source": [
    "def knn_train_test(train, target, dataframe,k):\n",
    "    kf = KFold(5, shuffle=True, random_state=1)\n",
    "    knn = KNeighborsRegressor(n_neighbors=k, algorithm='brute')\n",
    "    mses = cross_val_score(knn, dataframe[train], dataframe[target], scoring='neg_mean_squared_error', cv=kf)\n",
    "    avg_rmse = np.mean(((abs(mses)))**(1/2))\n",
    "    return avg_rmse\n",
    "def test(features):\n",
    "    array = range(1,25)\n",
    "\n",
    "        #plt.figure()\n",
    "    values = []\n",
    "    for i in array:\n",
    "        avg = knn_train_test(features, 'price', carscopynormal,i)\n",
    "        values.append(avg)\n",
    "    plt.scatter(array,values)\n",
    "    plt.ylabel('rmse')\n",
    "    plt.show()\n",
    "\n",
    "features = ['curb_weight','highway_mpg']\n",
    "test(features)\n",
    "features.append('length')\n",
    "test(features)\n",
    "\n",
    "features.append('engine_size')\n",
    "test(features)\n",
    "#loo"
   ]
  },
  {
   "cell_type": "code",
   "execution_count": null,
   "metadata": {
    "collapsed": true
   },
   "outputs": [],
   "source": []
  }
 ],
 "metadata": {
  "kernelspec": {
   "display_name": "Python 3",
   "language": "python",
   "name": "python3"
  },
  "language_info": {
   "codemirror_mode": {
    "name": "ipython",
    "version": 3
   },
   "file_extension": ".py",
   "mimetype": "text/x-python",
   "name": "python",
   "nbconvert_exporter": "python",
   "pygments_lexer": "ipython3",
   "version": "3.4.3"
  }
 },
 "nbformat": 4,
 "nbformat_minor": 2
}
